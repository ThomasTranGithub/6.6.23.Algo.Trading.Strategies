{
  "nbformat": 4,
  "nbformat_minor": 0,
  "metadata": {
    "colab": {
      "provenance": [],
      "authorship_tag": "ABX9TyOLuFDZXav0+UbHel0Lc0Yd",
      "include_colab_link": true
    },
    "kernelspec": {
      "name": "python3",
      "display_name": "Python 3"
    },
    "language_info": {
      "name": "python"
    }
  },
  "cells": [
    {
      "cell_type": "markdown",
      "metadata": {
        "id": "view-in-github",
        "colab_type": "text"
      },
      "source": [
        "<a href=\"https://colab.research.google.com/github/ThomasTranGithub/Algo.Trading.Strategies/blob/main/RNN_Price_Predictions.ipynb\" target=\"_parent\"><img src=\"https://colab.research.google.com/assets/colab-badge.svg\" alt=\"Open In Colab\"/></a>"
      ]
    },
    {
      "cell_type": "code",
      "execution_count": null,
      "metadata": {
        "id": "NDpBkYJB7lS8"
      },
      "outputs": [],
      "source": [
        "import pandas as pd\n",
        "import matplotlib as plt\n",
        "import yfinance as yf\n",
        "import seaborn as sn"
      ]
    },
    {
      "cell_type": "markdown",
      "source": [
        "A recurrent neural network (RNN) is a class of artificial neural networks where connections between nodes can create a cycle, allowing output from some nodes to affect subsequent input to the same nodes. This allows it to exhibit temporal dynamic behavior. Derived from feedforward neural networks, RNNs can use their internal state (memory) to process variable length sequences of inputs.[1][2][3] This makes them applicable to tasks such as unsegmented, connected handwriting recognition[4] or speech recognition.[5][6] Recurrent neural networks are theoretically Turing complete and can run arbitrary programs to process arbitrary sequences of inputs.[7]"
      ],
      "metadata": {
        "id": "e8yWSyPY625s"
      }
    },
    {
      "cell_type": "markdown",
      "source": [
        "import the prices for two holdings\n",
        "\n",
        "\n",
        "we will "
      ],
      "metadata": {
        "id": "ERKucfFt6_to"
      }
    },
    {
      "cell_type": "code",
      "source": [
        "import yfinance as yf\n",
        "\n",
        "# Define the ticker symbol and time period\n",
        "ticker_symbol = ['AAPL']\n",
        "start_date = \"2017-01-01\"\n",
        "end_date = \"2022-12-31\"\n",
        "\n",
        "# Fetch the stock data\n",
        "stock_data = yf.download(ticker_symbol, start=start_date, end=end_date)\n",
        "\n",
        "# Print the stock data\n",
        "print(stock_data)"
      ],
      "metadata": {
        "colab": {
          "base_uri": "https://localhost:8080/"
        },
        "id": "t5Q_pbMT-rx1",
        "outputId": "53324ccd-39d4-470b-d1f0-d86911a8b396"
      },
      "execution_count": 76,
      "outputs": [
        {
          "output_type": "stream",
          "name": "stdout",
          "text": [
            "\r[*********************100%***********************]  1 of 1 completed\n",
            "                  Open        High         Low       Close   Adj Close  \\\n",
            "Date                                                                     \n",
            "2017-01-03   28.950001   29.082500   28.690001   29.037500   27.095852   \n",
            "2017-01-04   28.962500   29.127501   28.937500   29.004999   27.065521   \n",
            "2017-01-05   28.980000   29.215000   28.952499   29.152500   27.203157   \n",
            "2017-01-06   29.195000   29.540001   29.117500   29.477501   27.506428   \n",
            "2017-01-09   29.487499   29.857500   29.485001   29.747499   27.758371   \n",
            "...                ...         ...         ...         ...         ...   \n",
            "2022-12-23  130.919998  132.419998  129.639999  131.860001  131.477127   \n",
            "2022-12-27  131.380005  131.410004  128.720001  130.029999  129.652435   \n",
            "2022-12-28  129.669998  131.029999  125.870003  126.040001  125.674019   \n",
            "2022-12-29  127.989998  130.479996  127.730003  129.610001  129.233658   \n",
            "2022-12-30  128.410004  129.949997  127.430000  129.929993  129.552719   \n",
            "\n",
            "               Volume  \n",
            "Date                   \n",
            "2017-01-03  115127600  \n",
            "2017-01-04   84472400  \n",
            "2017-01-05   88774400  \n",
            "2017-01-06  127007600  \n",
            "2017-01-09  134247600  \n",
            "...               ...  \n",
            "2022-12-23   63814900  \n",
            "2022-12-27   69007800  \n",
            "2022-12-28   85438400  \n",
            "2022-12-29   75703700  \n",
            "2022-12-30   77034200  \n",
            "\n",
            "[1510 rows x 6 columns]\n"
          ]
        }
      ]
    },
    {
      "cell_type": "code",
      "source": [
        "# Extract adjusted closing prices and volume for AAPL and GOOG\n",
        "adj_close_prices = stock_data['Adj Close']\n",
        "volume = stock_data['Volume']\n",
        "\n",
        "# Print the extracted data\n",
        "print(\"Adjusted Closing Prices:\")\n",
        "print(adj_close_prices)\n",
        "\n",
        "print(\"\\nVolume:\")\n",
        "print(volume)\n"
      ],
      "metadata": {
        "colab": {
          "base_uri": "https://localhost:8080/"
        },
        "id": "5N2A_iqxPhWq",
        "outputId": "9d7b4c09-6fe1-44d9-ac4a-a7d72a3eef50"
      },
      "execution_count": 77,
      "outputs": [
        {
          "output_type": "stream",
          "name": "stdout",
          "text": [
            "Adjusted Closing Prices:\n",
            "Date\n",
            "2017-01-03     27.095852\n",
            "2017-01-04     27.065521\n",
            "2017-01-05     27.203157\n",
            "2017-01-06     27.506428\n",
            "2017-01-09     27.758371\n",
            "                 ...    \n",
            "2022-12-23    131.477127\n",
            "2022-12-27    129.652435\n",
            "2022-12-28    125.674019\n",
            "2022-12-29    129.233658\n",
            "2022-12-30    129.552719\n",
            "Name: Adj Close, Length: 1510, dtype: float64\n",
            "\n",
            "Volume:\n",
            "Date\n",
            "2017-01-03    115127600\n",
            "2017-01-04     84472400\n",
            "2017-01-05     88774400\n",
            "2017-01-06    127007600\n",
            "2017-01-09    134247600\n",
            "                ...    \n",
            "2022-12-23     63814900\n",
            "2022-12-27     69007800\n",
            "2022-12-28     85438400\n",
            "2022-12-29     75703700\n",
            "2022-12-30     77034200\n",
            "Name: Volume, Length: 1510, dtype: int64\n"
          ]
        }
      ]
    },
    {
      "cell_type": "markdown",
      "source": [
        "To use the volume and closing price data as inputs for an RNN (Recurrent Neural Network) model, you can follow these steps:\n",
        "\n",
        "Import the necessary libraries:"
      ],
      "metadata": {
        "id": "hIDkS9DiQTX4"
      }
    },
    {
      "cell_type": "code",
      "source": [
        "import numpy as np\n",
        "import pandas as pd\n",
        "import tensorflow as tf\n",
        "from tensorflow.keras.models import Sequential\n",
        "from tensorflow.keras.layers import LSTM, Dense"
      ],
      "metadata": {
        "id": "00q5KPDzRWQ_"
      },
      "execution_count": 78,
      "outputs": []
    },
    {
      "cell_type": "markdown",
      "source": [
        "Prepare the input data:"
      ],
      "metadata": {
        "id": "My_-jEo9RbEu"
      }
    },
    {
      "cell_type": "code",
      "source": [
        "# Assuming you have extracted the volume and adjusted closing prices\n",
        "volume = stock_data['Volume'].values\n",
        "closing_price = stock_data['Adj Close'].values\n",
        "\n",
        "# Normalize the input data\n",
        "normalized_volume = (volume - np.mean(volume)) / np.std(volume)\n",
        "normalized_closing_price = (closing_price - np.mean(closing_price)) / np.std(closing_price)\n",
        "\n",
        "# Combine the normalized volume and closing price into a single input array\n",
        "input_data = np.column_stack((normalized_volume, normalized_closing_price))\n"
      ],
      "metadata": {
        "id": "rwhDRsG2ReBx"
      },
      "execution_count": 79,
      "outputs": []
    },
    {
      "cell_type": "code",
      "source": [
        "# Assuming you have a target variable indicating the desired prediction\n",
        "# For example, if you want to predict whether the closing price will increase or decrease the next day:\n",
        "target = np.where(closing_price[1:] > closing_price[:-1], 1, 0)  # 1: increase, 0: decrease\n",
        "\n",
        "# Reshape the target array to match the input shape\n",
        "target = target.reshape(-1, 1)\n"
      ],
      "metadata": {
        "id": "VwZ0RS1kRvT2"
      },
      "execution_count": 80,
      "outputs": []
    },
    {
      "cell_type": "markdown",
      "source": [
        "Prepare the target data:"
      ],
      "metadata": {
        "id": "f7uXLLAqRhie"
      }
    },
    {
      "cell_type": "code",
      "source": [
        "# Assuming you have defined the training and testing set sizes\n",
        "train_size = int(0.8 * len(input_data))\n",
        "\n",
        "x_train = input_data[:train_size]\n",
        "y_train = target[:train_size]\n",
        "\n",
        "x_test = input_data[train_size:]\n",
        "y_test = target[train_size:]\n"
      ],
      "metadata": {
        "id": "OeJyMtJNRkO3"
      },
      "execution_count": 81,
      "outputs": []
    },
    {
      "cell_type": "code",
      "source": [
        "len(x_train)\n"
      ],
      "metadata": {
        "colab": {
          "base_uri": "https://localhost:8080/"
        },
        "id": "o93VA2f6UK7B",
        "outputId": "cdd9ac4b-ffac-4752-d589-895ca61cb3b9"
      },
      "execution_count": 82,
      "outputs": [
        {
          "output_type": "execute_result",
          "data": {
            "text/plain": [
              "1208"
            ]
          },
          "metadata": {},
          "execution_count": 82
        }
      ]
    },
    {
      "cell_type": "code",
      "source": [
        "x_train = np.reshape(x_train, (x_train.shape[0], x_train.shape[1], 1))\n"
      ],
      "metadata": {
        "id": "ihMMTEccSzV-"
      },
      "execution_count": 83,
      "outputs": []
    },
    {
      "cell_type": "markdown",
      "source": [
        "Build and train the RNN model:"
      ],
      "metadata": {
        "id": "k6jPbRIyR-fZ"
      }
    },
    {
      "cell_type": "code",
      "source": [],
      "metadata": {
        "id": "w5YTaygoU9-Q"
      },
      "execution_count": null,
      "outputs": []
    },
    {
      "cell_type": "code",
      "source": [
        "x_train = np.reshape(x_train, (x_train.shape[0], x_train.shape[1], 1))\n",
        "x_test = np.reshape(x_test, (x_test.shape[0], x_test.shape[1], 1))\n",
        "\n",
        "\n"
      ],
      "metadata": {
        "id": "CX_d0GKGU5pN"
      },
      "execution_count": 84,
      "outputs": []
    },
    {
      "cell_type": "code",
      "source": [
        "model = Sequential()\n",
        "model.add(LSTM(64, input_shape=(x_train.shape[1], x_train.shape[2])))\n",
        "model.add(Dense(32, activation='relu'))\n",
        "model.add(Dense(1, activation='sigmoid'))\n",
        "\n",
        "model.compile(loss='binary_crossentropy', optimizer='adam', metrics=['accuracy'])\n",
        "\n",
        "model.fit(x_train, y_train, epochs=10, batch_size=32)\n",
        "\n"
      ],
      "metadata": {
        "colab": {
          "base_uri": "https://localhost:8080/"
        },
        "id": "hvI6FIZ5U-5g",
        "outputId": "10aeda69-edd6-4056-ba4a-2386e331dca4"
      },
      "execution_count": 85,
      "outputs": [
        {
          "output_type": "stream",
          "name": "stdout",
          "text": [
            "Epoch 1/10\n",
            "38/38 [==============================] - 3s 5ms/step - loss: 0.6924 - accuracy: 0.5240\n",
            "Epoch 2/10\n",
            "38/38 [==============================] - 0s 5ms/step - loss: 0.6899 - accuracy: 0.5430\n",
            "Epoch 3/10\n",
            "38/38 [==============================] - 0s 5ms/step - loss: 0.6895 - accuracy: 0.5430\n",
            "Epoch 4/10\n",
            "38/38 [==============================] - 0s 5ms/step - loss: 0.6892 - accuracy: 0.5430\n",
            "Epoch 5/10\n",
            "38/38 [==============================] - 0s 5ms/step - loss: 0.6893 - accuracy: 0.5406\n",
            "Epoch 6/10\n",
            "38/38 [==============================] - 0s 5ms/step - loss: 0.6893 - accuracy: 0.5364\n",
            "Epoch 7/10\n",
            "38/38 [==============================] - 0s 5ms/step - loss: 0.6893 - accuracy: 0.5406\n",
            "Epoch 8/10\n",
            "38/38 [==============================] - 0s 5ms/step - loss: 0.6894 - accuracy: 0.5414\n",
            "Epoch 9/10\n",
            "38/38 [==============================] - 0s 4ms/step - loss: 0.6893 - accuracy: 0.5439\n",
            "Epoch 10/10\n",
            "38/38 [==============================] - 0s 4ms/step - loss: 0.6894 - accuracy: 0.5430\n"
          ]
        },
        {
          "output_type": "execute_result",
          "data": {
            "text/plain": [
              "<keras.callbacks.History at 0x7f1b9de50700>"
            ]
          },
          "metadata": {},
          "execution_count": 85
        }
      ]
    }
  ]
}