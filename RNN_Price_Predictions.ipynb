{
  "nbformat": 4,
  "nbformat_minor": 0,
  "metadata": {
    "colab": {
      "provenance": [],
      "authorship_tag": "ABX9TyMUyW/wmxg5+4qw70iLVqJq",
      "include_colab_link": true
    },
    "kernelspec": {
      "name": "python3",
      "display_name": "Python 3"
    },
    "language_info": {
      "name": "python"
    }
  },
  "cells": [
    {
      "cell_type": "markdown",
      "metadata": {
        "id": "view-in-github",
        "colab_type": "text"
      },
      "source": [
        "<a href=\"https://colab.research.google.com/github/ThomasTranGithub/Algo.Trading.Strategies/blob/main/RNN_Price_Predictions.ipynb\" target=\"_parent\"><img src=\"https://colab.research.google.com/assets/colab-badge.svg\" alt=\"Open In Colab\"/></a>"
      ]
    },
    {
      "cell_type": "code",
      "execution_count": 12,
      "metadata": {
        "id": "NDpBkYJB7lS8"
      },
      "outputs": [],
      "source": [
        "import pandas as pd\n",
        "import matplotlib as plt\n",
        "import yfinance as yf\n",
        "import seaborn as sn"
      ]
    },
    {
      "cell_type": "markdown",
      "source": [
        "A recurrent neural network (RNN) is a class of artificial neural networks where connections between nodes can create a cycle, allowing output from some nodes to affect subsequent input to the same nodes. This allows it to exhibit temporal dynamic behavior. Derived from feedforward neural networks, RNNs can use their internal state (memory) to process variable length sequences of inputs.[1][2][3] This makes them applicable to tasks such as unsegmented, connected handwriting recognition[4] or speech recognition.[5][6] Recurrent neural networks are theoretically Turing complete and can run arbitrary programs to process arbitrary sequences of inputs.[7]"
      ],
      "metadata": {
        "id": "e8yWSyPY625s"
      }
    },
    {
      "cell_type": "markdown",
      "source": [
        "import the prices for two holdings\n",
        "\n",
        "\n",
        "we will "
      ],
      "metadata": {
        "id": "ERKucfFt6_to"
      }
    },
    {
      "cell_type": "code",
      "source": [
        "import yfinance as yf\n",
        "\n",
        "# Define the ticker symbol and time period\n",
        "ticker_symbol = ['AAPL', 'GOOG']\n",
        "start_date = \"2022-01-01\"\n",
        "end_date = \"2022-12-31\"\n",
        "\n",
        "# Fetch the stock data\n",
        "stock_data = yf.download(ticker_symbol, start=start_date, end=end_date)\n",
        "\n",
        "# Print the stock data\n",
        "print(stock_data)"
      ],
      "metadata": {
        "colab": {
          "base_uri": "https://localhost:8080/"
        },
        "id": "t5Q_pbMT-rx1",
        "outputId": "48af36a1-4165-4733-92f1-45164cdf1331"
      },
      "execution_count": 15,
      "outputs": [
        {
          "output_type": "stream",
          "name": "stdout",
          "text": [
            "[*********************100%***********************]  2 of 2 completed\n",
            "             Adj Close                   Close                    High  \\\n",
            "                  AAPL        GOOG        AAPL        GOOG        AAPL   \n",
            "Date                                                                     \n",
            "2022-01-03  180.434296  145.074493  182.009995  145.074493  182.880005   \n",
            "2022-01-04  178.144287  144.416504  179.699997  144.416504  182.940002   \n",
            "2022-01-05  173.405685  137.653503  174.919998  137.653503  180.169998   \n",
            "2022-01-06  170.510971  137.550995  172.000000  137.550995  175.300003   \n",
            "2022-01-07  170.679474  137.004501  172.169998  137.004501  174.139999   \n",
            "...                ...         ...         ...         ...         ...   \n",
            "2022-12-23  131.477127   89.809998  131.860001   89.809998  132.419998   \n",
            "2022-12-27  129.652435   87.930000  130.029999   87.930000  131.410004   \n",
            "2022-12-28  125.674026   86.459999  126.040001   86.459999  131.029999   \n",
            "2022-12-29  129.233658   88.949997  129.610001   88.949997  130.479996   \n",
            "2022-12-30  129.552719   88.730003  129.929993   88.730003  129.949997   \n",
            "\n",
            "                               Low                    Open              \\\n",
            "                  GOOG        AAPL        GOOG        AAPL        GOOG   \n",
            "Date                                                                     \n",
            "2022-01-03  145.550003  177.710007  143.502502  177.830002  144.475494   \n",
            "2022-01-04  146.610001  179.119995  143.816147  182.630005  145.550507   \n",
            "2022-01-05  144.298004  174.639999  137.523499  179.610001  144.181000   \n",
            "2022-01-06  139.686005  171.639999  136.763504  172.699997  137.497498   \n",
            "2022-01-07  138.254745  171.029999  135.789001  172.889999  137.904999   \n",
            "...                ...         ...         ...         ...         ...   \n",
            "2022-12-23   90.099998  129.639999   87.620003  130.919998   87.620003   \n",
            "2022-12-27   89.500000  128.720001   87.535004  131.380005   89.309998   \n",
            "2022-12-28   88.519997  125.870003   86.370003  129.669998   87.500000   \n",
            "2022-12-29   89.364998  127.730003   86.989998  127.989998   87.029999   \n",
            "2022-12-30   88.830002  127.430000   87.029999  128.410004   87.364998   \n",
            "\n",
            "               Volume            \n",
            "                 AAPL      GOOG  \n",
            "Date                             \n",
            "2022-01-03  104487900  25214000  \n",
            "2022-01-04   99310400  22928000  \n",
            "2022-01-05   94537600  49642000  \n",
            "2022-01-06   96904000  29050000  \n",
            "2022-01-07   86709100  19408000  \n",
            "...               ...       ...  \n",
            "2022-12-23   63814900  17815000  \n",
            "2022-12-27   69007800  15470900  \n",
            "2022-12-28   85438400  17879600  \n",
            "2022-12-29   75703700  18280700  \n",
            "2022-12-30   77034200  19190300  \n",
            "\n",
            "[251 rows x 12 columns]\n"
          ]
        }
      ]
    },
    {
      "cell_type": "code",
      "source": [
        "# Extract adjusted closing prices and volume for AAPL and GOOG\n",
        "adj_close_prices = stock_data['Adj Close']\n",
        "volume = stock_data['Volume']\n",
        "\n",
        "# Print the extracted data\n",
        "print(\"Adjusted Closing Prices:\")\n",
        "print(adj_close_prices)\n",
        "\n",
        "print(\"\\nVolume:\")\n",
        "print(volume)\n"
      ],
      "metadata": {
        "colab": {
          "base_uri": "https://localhost:8080/"
        },
        "id": "5N2A_iqxPhWq",
        "outputId": "95233608-3bb4-4f62-aa3a-1caae2c11583"
      },
      "execution_count": 16,
      "outputs": [
        {
          "output_type": "stream",
          "name": "stdout",
          "text": [
            "Adjusted Closing Prices:\n",
            "                  AAPL        GOOG\n",
            "Date                              \n",
            "2022-01-03  180.434296  145.074493\n",
            "2022-01-04  178.144287  144.416504\n",
            "2022-01-05  173.405685  137.653503\n",
            "2022-01-06  170.510971  137.550995\n",
            "2022-01-07  170.679474  137.004501\n",
            "...                ...         ...\n",
            "2022-12-23  131.477127   89.809998\n",
            "2022-12-27  129.652435   87.930000\n",
            "2022-12-28  125.674026   86.459999\n",
            "2022-12-29  129.233658   88.949997\n",
            "2022-12-30  129.552719   88.730003\n",
            "\n",
            "[251 rows x 2 columns]\n",
            "\n",
            "Volume:\n",
            "                 AAPL      GOOG\n",
            "Date                           \n",
            "2022-01-03  104487900  25214000\n",
            "2022-01-04   99310400  22928000\n",
            "2022-01-05   94537600  49642000\n",
            "2022-01-06   96904000  29050000\n",
            "2022-01-07   86709100  19408000\n",
            "...               ...       ...\n",
            "2022-12-23   63814900  17815000\n",
            "2022-12-27   69007800  15470900\n",
            "2022-12-28   85438400  17879600\n",
            "2022-12-29   75703700  18280700\n",
            "2022-12-30   77034200  19190300\n",
            "\n",
            "[251 rows x 2 columns]\n"
          ]
        }
      ]
    },
    {
      "cell_type": "code",
      "source": [],
      "metadata": {
        "id": "Uxj2QEElPkHP"
      },
      "execution_count": null,
      "outputs": []
    },
    {
      "cell_type": "code",
      "source": [],
      "metadata": {
        "id": "KrNp3EL-QTGX"
      },
      "execution_count": null,
      "outputs": []
    },
    {
      "cell_type": "markdown",
      "source": [
        "To use the volume and closing price data as inputs for an RNN (Recurrent Neural Network) model, you can follow these steps:\n",
        "\n",
        "Import the necessary libraries:"
      ],
      "metadata": {
        "id": "hIDkS9DiQTX4"
      }
    },
    {
      "cell_type": "code",
      "source": [
        "import numpy as np\n",
        "import pandas as pd\n",
        "import tensorflow as tf\n",
        "from tensorflow.keras.models import Sequential\n",
        "from tensorflow.keras.layers import LSTM, Dense"
      ],
      "metadata": {
        "id": "00q5KPDzRWQ_"
      },
      "execution_count": 27,
      "outputs": []
    },
    {
      "cell_type": "markdown",
      "source": [
        "Prepare the input data:"
      ],
      "metadata": {
        "id": "My_-jEo9RbEu"
      }
    },
    {
      "cell_type": "code",
      "source": [
        "# Assuming you have extracted the volume and adjusted closing prices\n",
        "volume = stock_data['Volume'].values\n",
        "closing_price = stock_data['Adj Close'].values\n",
        "\n",
        "# Normalize the input data\n",
        "normalized_volume = (volume - np.mean(volume)) / np.std(volume)\n",
        "normalized_closing_price = (closing_price - np.mean(closing_price)) / np.std(closing_price)\n",
        "\n",
        "# Combine the normalized volume and closing price into a single input array\n",
        "input_data = np.column_stack((normalized_volume, normalized_closing_price))\n"
      ],
      "metadata": {
        "id": "rwhDRsG2ReBx"
      },
      "execution_count": 28,
      "outputs": []
    },
    {
      "cell_type": "code",
      "source": [
        "# Assuming you have a target variable indicating the desired prediction\n",
        "# For example, if you want to predict whether the closing price will increase or decrease the next day:\n",
        "target = np.where(closing_price[1:] > closing_price[:-1], 1, 0)  # 1: increase, 0: decrease\n",
        "\n",
        "# Reshape the target array to match the input shape\n",
        "target = target.reshape(-1, 1)\n"
      ],
      "metadata": {
        "id": "VwZ0RS1kRvT2"
      },
      "execution_count": 29,
      "outputs": []
    },
    {
      "cell_type": "markdown",
      "source": [
        "Prepare the target data:"
      ],
      "metadata": {
        "id": "f7uXLLAqRhie"
      }
    },
    {
      "cell_type": "code",
      "source": [
        "# Assuming you have defined the training and testing set sizes\n",
        "train_size = int(0.8 * len(input_data))\n",
        "\n",
        "x_train = input_data[:train_size]\n",
        "y_train = target[:train_size]\n",
        "\n",
        "x_test = input_data[train_size:]\n",
        "y_test = target[train_size:]"
      ],
      "metadata": {
        "id": "OeJyMtJNRkO3"
      },
      "execution_count": 30,
      "outputs": []
    },
    {
      "cell_type": "code",
      "source": [
        "x_train = x_train.reshape(-1, 2, 1)\n"
      ],
      "metadata": {
        "id": "ihMMTEccSzV-"
      },
      "execution_count": 32,
      "outputs": []
    },
    {
      "cell_type": "markdown",
      "source": [
        "Build and train the RNN model:"
      ],
      "metadata": {
        "id": "k6jPbRIyR-fZ"
      }
    },
    {
      "cell_type": "code",
      "source": [
        "model = Sequential()\n",
        "model.add(LSTM(64, input_shape=(2, 1)))\n",
        "model.add(Dense(1, activation='sigmoid'))\n",
        "\n",
        "model.compile(loss='binary_crossentropy', optimizer='adam', metrics=['accuracy'])\n",
        "\n",
        "model.fit(x_train, y_train, epochs=10, batch_size=32)\n",
        "\n",
        "\n"
      ],
      "metadata": {
        "colab": {
          "base_uri": "https://localhost:8080/",
          "height": 436
        },
        "id": "VhACMaqYR7S-",
        "outputId": "ae870cda-2760-4ce4-cd8c-7d0094d10ab3"
      },
      "execution_count": 33,
      "outputs": [
        {
          "output_type": "error",
          "ename": "ValueError",
          "evalue": "ignored",
          "traceback": [
            "\u001b[0;31m---------------------------------------------------------------------------\u001b[0m",
            "\u001b[0;31mValueError\u001b[0m                                Traceback (most recent call last)",
            "\u001b[0;32m<ipython-input-33-52440aa53785>\u001b[0m in \u001b[0;36m<cell line: 7>\u001b[0;34m()\u001b[0m\n\u001b[1;32m      5\u001b[0m \u001b[0mmodel\u001b[0m\u001b[0;34m.\u001b[0m\u001b[0mcompile\u001b[0m\u001b[0;34m(\u001b[0m\u001b[0mloss\u001b[0m\u001b[0;34m=\u001b[0m\u001b[0;34m'binary_crossentropy'\u001b[0m\u001b[0;34m,\u001b[0m \u001b[0moptimizer\u001b[0m\u001b[0;34m=\u001b[0m\u001b[0;34m'adam'\u001b[0m\u001b[0;34m,\u001b[0m \u001b[0mmetrics\u001b[0m\u001b[0;34m=\u001b[0m\u001b[0;34m[\u001b[0m\u001b[0;34m'accuracy'\u001b[0m\u001b[0;34m]\u001b[0m\u001b[0;34m)\u001b[0m\u001b[0;34m\u001b[0m\u001b[0;34m\u001b[0m\u001b[0m\n\u001b[1;32m      6\u001b[0m \u001b[0;34m\u001b[0m\u001b[0m\n\u001b[0;32m----> 7\u001b[0;31m \u001b[0mmodel\u001b[0m\u001b[0;34m.\u001b[0m\u001b[0mfit\u001b[0m\u001b[0;34m(\u001b[0m\u001b[0mx_train\u001b[0m\u001b[0;34m,\u001b[0m \u001b[0my_train\u001b[0m\u001b[0;34m,\u001b[0m \u001b[0mepochs\u001b[0m\u001b[0;34m=\u001b[0m\u001b[0;36m10\u001b[0m\u001b[0;34m,\u001b[0m \u001b[0mbatch_size\u001b[0m\u001b[0;34m=\u001b[0m\u001b[0;36m32\u001b[0m\u001b[0;34m)\u001b[0m\u001b[0;34m\u001b[0m\u001b[0;34m\u001b[0m\u001b[0m\n\u001b[0m\u001b[1;32m      8\u001b[0m \u001b[0;34m\u001b[0m\u001b[0m\n\u001b[1;32m      9\u001b[0m \u001b[0;34m\u001b[0m\u001b[0m\n",
            "\u001b[0;32m/usr/local/lib/python3.10/dist-packages/keras/utils/traceback_utils.py\u001b[0m in \u001b[0;36merror_handler\u001b[0;34m(*args, **kwargs)\u001b[0m\n\u001b[1;32m     68\u001b[0m             \u001b[0;31m# To get the full stack trace, call:\u001b[0m\u001b[0;34m\u001b[0m\u001b[0;34m\u001b[0m\u001b[0m\n\u001b[1;32m     69\u001b[0m             \u001b[0;31m# `tf.debugging.disable_traceback_filtering()`\u001b[0m\u001b[0;34m\u001b[0m\u001b[0;34m\u001b[0m\u001b[0m\n\u001b[0;32m---> 70\u001b[0;31m             \u001b[0;32mraise\u001b[0m \u001b[0me\u001b[0m\u001b[0;34m.\u001b[0m\u001b[0mwith_traceback\u001b[0m\u001b[0;34m(\u001b[0m\u001b[0mfiltered_tb\u001b[0m\u001b[0;34m)\u001b[0m \u001b[0;32mfrom\u001b[0m \u001b[0;32mNone\u001b[0m\u001b[0;34m\u001b[0m\u001b[0;34m\u001b[0m\u001b[0m\n\u001b[0m\u001b[1;32m     71\u001b[0m         \u001b[0;32mfinally\u001b[0m\u001b[0;34m:\u001b[0m\u001b[0;34m\u001b[0m\u001b[0;34m\u001b[0m\u001b[0m\n\u001b[1;32m     72\u001b[0m             \u001b[0;32mdel\u001b[0m \u001b[0mfiltered_tb\u001b[0m\u001b[0;34m\u001b[0m\u001b[0;34m\u001b[0m\u001b[0m\n",
            "\u001b[0;32m/usr/local/lib/python3.10/dist-packages/keras/engine/data_adapter.py\u001b[0m in \u001b[0;36m_check_data_cardinality\u001b[0;34m(data)\u001b[0m\n\u001b[1;32m   1850\u001b[0m             )\n\u001b[1;32m   1851\u001b[0m         \u001b[0mmsg\u001b[0m \u001b[0;34m+=\u001b[0m \u001b[0;34m\"Make sure all arrays contain the same number of samples.\"\u001b[0m\u001b[0;34m\u001b[0m\u001b[0;34m\u001b[0m\u001b[0m\n\u001b[0;32m-> 1852\u001b[0;31m         \u001b[0;32mraise\u001b[0m \u001b[0mValueError\u001b[0m\u001b[0;34m(\u001b[0m\u001b[0mmsg\u001b[0m\u001b[0;34m)\u001b[0m\u001b[0;34m\u001b[0m\u001b[0;34m\u001b[0m\u001b[0m\n\u001b[0m\u001b[1;32m   1853\u001b[0m \u001b[0;34m\u001b[0m\u001b[0m\n\u001b[1;32m   1854\u001b[0m \u001b[0;34m\u001b[0m\u001b[0m\n",
            "\u001b[0;31mValueError\u001b[0m: Data cardinality is ambiguous:\n  x sizes: 400\n  y sizes: 200\nMake sure all arrays contain the same number of samples."
          ]
        }
      ]
    }
  ]
}