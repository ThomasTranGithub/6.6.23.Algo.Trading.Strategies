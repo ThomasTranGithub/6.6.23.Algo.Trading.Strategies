{
  "nbformat": 4,
  "nbformat_minor": 0,
  "metadata": {
    "colab": {
      "provenance": [],
      "authorship_tag": "ABX9TyO+1JjJdJtQxXi1KLRGtLRT",
      "include_colab_link": true
    },
    "kernelspec": {
      "name": "python3",
      "display_name": "Python 3"
    },
    "language_info": {
      "name": "python"
    }
  },
  "cells": [
    {
      "cell_type": "markdown",
      "metadata": {
        "id": "view-in-github",
        "colab_type": "text"
      },
      "source": [
        "<a href=\"https://colab.research.google.com/github/ThomasTranGithub/Algo.Trading.Strategies/blob/main/RouletteStrategy.ipynb\" target=\"_parent\"><img src=\"https://colab.research.google.com/assets/colab-badge.svg\" alt=\"Open In Colab\"/></a>"
      ]
    },
    {
      "cell_type": "code",
      "execution_count": null,
      "metadata": {
        "id": "vt4BlXsVglt6"
      },
      "outputs": [],
      "source": [
        "import pandas as pd\n",
        "import numpy as np\n",
        "import random\n",
        "import matplotlib.pyplot as plt\n",
        "\n",
        "def play_game(budget, bet_amount, profit_target, prob_win):\n",
        "    while budget > 0 and budget < profit_target:\n",
        "        if random.random() < prob_win:\n",
        "            budget += bet_amount\n",
        "            bet_amount = 10  #bet amount after a win\n",
        "        else:\n",
        "            budget -= bet_amount\n",
        "            bet_amount *= 2  #double bet amount after a loss\n",
        "    return budget\n",
        "\n",
        "def mcsimu(num_trials):\n",
        "    total_outcome = 0\n",
        "    for _ in range(num_trials):\n",
        "        final_amount = play_game(100, 10, 120, 18/37)\n",
        "        total_outcome += final_amount\n",
        "    return total_outcome / num_trials\n",
        "\n",
        "def Einfinitebudget(prob_win):\n",
        "    return (prob_win * 20) - ((1 - prob_win) * 10)\n",
        "\n",
        "if __name__ == \"__main__\":\n",
        "    num_trials = 1000000\n",
        "    mcEvalue = mcsimu(num_trials)\n",
        "    infinitebudEvalue = Einfinitebudget(18/37)\n",
        "\n",
        "    print(\"E[Monte Carlo Simulation]:\", mcEvalue)\n",
        "    print(\"E[Infinite Budget]:\", infinitebudEvalue)"
      ]
    }
  ]
}