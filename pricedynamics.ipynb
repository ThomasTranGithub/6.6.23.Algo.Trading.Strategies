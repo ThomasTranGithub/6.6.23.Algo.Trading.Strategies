{
  "nbformat": 4,
  "nbformat_minor": 0,
  "metadata": {
    "colab": {
      "provenance": [],
      "authorship_tag": "ABX9TyOdoktKitn6++YxgckwP8gm",
      "include_colab_link": true
    },
    "kernelspec": {
      "name": "ir",
      "display_name": "R"
    },
    "language_info": {
      "name": "R"
    }
  },
  "cells": [
    {
      "cell_type": "markdown",
      "metadata": {
        "id": "view-in-github",
        "colab_type": "text"
      },
      "source": [
        "<a href=\"https://colab.research.google.com/github/ThomasTranGithub/6.6.23.Algo.Trading.Strategies/blob/main/pricedynamics.ipynb\" target=\"_parent\"><img src=\"https://colab.research.google.com/assets/colab-badge.svg\" alt=\"Open In Colab\"/></a>"
      ]
    },
    {
      "cell_type": "code",
      "execution_count": 1,
      "metadata": {
        "id": "ef4U2SeV8U7n"
      },
      "outputs": [],
      "source": [
        "#This project is done by python markdown notebook but the runtime type is in R for data analysis purposes\n",
        "#If running in colab change runtime to R"
      ]
    },
    {
      "cell_type": "markdown",
      "source": [
        "Modern Financial Markets and Price Dynamics"
      ],
      "metadata": {
        "id": "EmOhysi58eP5"
      }
    },
    {
      "cell_type": "code",
      "source": [],
      "metadata": {
        "id": "EJqjVgSQ9Hls"
      },
      "execution_count": null,
      "outputs": []
    }
  ]
}